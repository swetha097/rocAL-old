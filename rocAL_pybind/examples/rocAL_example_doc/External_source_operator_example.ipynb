{
 "cells": [
  {
   "cell_type": "markdown",
   "id": "c1b9bb51",
   "metadata": {},
   "source": [
    "<font size=\"18\"> External Source Operator Example </font>"
   ]
  },
  {
   "cell_type": "markdown",
   "id": "92188fec",
   "metadata": {},
   "source": [
    "This application demonstrates a simple rocAL pipeline with External Source Operator supported by rocAL."
   ]
  },
  {
   "cell_type": "markdown",
   "id": "6cf62fa8",
   "metadata": {},
   "source": [
    "<font size=\"12\"> Common Code </font>"
   ]
  },
  {
   "cell_type": "code",
   "execution_count": 14,
   "id": "0876c576-dd07-470f-970a-637ba357ec4e",
   "metadata": {},
   "outputs": [],
   "source": [
    "from amd.rocal.plugin.generic import ROCALClassificationIterator\n",
    "from amd.rocal.pipeline import Pipeline\n",
    "import amd.rocal.fn as fn\n",
    "import amd.rocal.types as types \n",
    "import cv2\n",
    "import cupy as cp\n",
    "import random\n",
    "import numpy as np\n",
    "import random"
   ]
  },
  {
   "cell_type": "code",
   "execution_count": 15,
   "id": "f10ff75b",
   "metadata": {},
   "outputs": [],
   "source": [
    "def generate_random_numbers(count):\n",
    "    # import random\n",
    "    \"\"\"Generate a list of random floating-point numbers.\"\"\"\n",
    "    random_numbers = []\n",
    "    for _ in range(count):\n",
    "        random_numbers.append(random.uniform(1.0, 100.0))  # Generates random floats between 1.0 and 100.0\n",
    "    return random_numbers\n",
    "\n",
    "def generate_random_numbers1(count):\n",
    "    \"\"\"Generate a list of random numbers.\"\"\"\n",
    "    random_numbers = []\n",
    "    for _ in range(count):\n",
    "        random_numbers.append(9)  # Generates random integers between 1 and 100 (inclusive)\n",
    "    return random_numbers\n",
    "\n",
    "\n"
   ]
  },
  {
   "cell_type": "code",
   "execution_count": 16,
   "id": "4107b53b-829b-4ff1-b607-f6c7ad4999d0",
   "metadata": {},
   "outputs": [],
   "source": [
    "def draw_patches(img, idx, device):\n",
    "    # image is expected as a tensor, bboxes as numpy\n",
    "    if device == \"gpu\":\n",
    "        img = cp.asnumpy(img)\n",
    "    # Ensure the image has a compatible depth (e.g., CV_8U) before saving\n",
    "    img = img.astype(np.uint8)  # Convert to 8-bit unsigned integers\n",
    "    # img = img.transpose([0, 2, 3, 1])\n",
    "    images_list = []\n",
    "    for im in img:\n",
    "        images_list.append(im)\n",
    "    img = cv2.vconcat(images_list)\n",
    "    img = cv2.cvtColor(img, cv2.COLOR_RGB2BGR)\n",
    "    cv2.imwrite(\"eso_blur_host\" + str(idx) + \".png\", img,\n",
    "                [cv2.IMWRITE_PNG_COMPRESSION, 9])\n"
   ]
  },
  {
   "cell_type": "code",
   "execution_count": null,
   "id": "a4a0fd99-b6a1-4cbe-9097-ab93566471a5",
   "metadata": {},
   "outputs": [],
   "source": [
    "def main():\n",
    "    # Create Pipeline instance\n",
    "    batch_size = 5\n",
    "    num_threads = 1\n",
    "    device_id = 0\n",
    "    local_rank = 0\n",
    "    world_size = 1\n",
    "    rocal_cpu = True\n",
    "    random_seed = 0\n",
    "    max_height = 720\n",
    "    max_width = 640\n",
    "    color_format = types.RGB\n",
    "    data_path=\"/media/MIVisionX-data/rocal_data/coco/coco_10_img/train_10images_2017/\"\n",
    "    decoder_device = 'cpu'\n",
    "    pipe = Pipeline(batch_size=batch_size, num_threads=num_threads, device_id=device_id, seed=random_seed, rocal_cpu=rocal_cpu, tensor_layout=types.NHWC , tensor_dtype=types.FLOAT, output_memory_type=types.HOST_MEMORY if rocal_cpu else types.DEVICE_MEMORY)\n",
    "    with pipe:\n",
    "        jpegs, _ = fn.readers.file(file_root=data_path)\n",
    "        images = fn.decoders.image(jpegs,\n",
    "                                    file_root=data_path,\n",
    "                                    device=decoder_device,\n",
    "                                    max_decoded_width=max_width,\n",
    "                                    max_decoded_height=max_height,\n",
    "                                    output_type=color_format,\n",
    "                                    shard_id=local_rank,\n",
    "                                    num_shards=world_size,\n",
    "                                    random_shuffle=False)\n",
    "        output = fn.external_source(images, source = generate_random_numbers, size=batch_size)\n",
    "        # output1 = fn.external_source(images, source = generate_random_numbers, size=batch_size)\n",
    "        contrast_output = fn.contrast(images, contrast_center=output , contrast = output)\n",
    "        blur_output = fn.blur(images, window_size=3)\n",
    "\n",
    "        pipe.set_outputs(contrast_output, blur_output)\n",
    "    pipe.build()\n",
    "\n",
    "    # Dataloader\n",
    "    data_loader = ROCALClassificationIterator(\n",
    "        pipe, device=\"cpu\", device_id=local_rank)\n",
    "    cnt = 0\n",
    "\n",
    "    # Enumerate over the Dataloader\n",
    "    for epoch in range(int(1)):\n",
    "        print(\"EPOCH:::::\", epoch)\n",
    "        for i, (output_list, labels) in enumerate(data_loader, 0):\n",
    "            for j in range(len(output_list)):\n",
    "                print(\"**************\", i, \"*******************\")\n",
    "                print(\"**************starts*******************\")\n",
    "                print(\"\\nImages:\\n\", output_list[j])\n",
    "                print(\"\\nLABELS:\\n\", labels)\n",
    "                print(\"**************ends*******************\")\n",
    "                print(\"**************\", i, \"*******************\")\n",
    "                draw_patches(output_list[j], cnt, \"cpu\")\n",
    "                cnt += len(output_list[j])\n",
    "\n",
    "        data_loader.reset()\n",
    "\n",
    "if __name__ == '__main__':\n",
    "    main()"
   ]
  },
  {
   "cell_type": "code",
   "execution_count": 13,
   "id": "53b8908c-e3f6-47a6-9d7b-ac6ef2d86ed0",
   "metadata": {},
   "outputs": [],
   "source": [
    "import numpy as np"
   ]
  },
  {
   "cell_type": "code",
   "execution_count": null,
   "id": "ac5a33dd-1e1e-4c9f-9013-79eada3103ad",
   "metadata": {},
   "outputs": [],
   "source": [
    "array = np.array"
   ]
  },
  {
   "cell_type": "code",
   "execution_count": null,
   "id": "c886e71b",
   "metadata": {},
   "outputs": [],
   "source": [
    "def my_func:\n",
    "    np.min(array)"
   ]
  },
  {
   "cell_type": "markdown",
   "id": "45d6121b",
   "metadata": {},
   "source": [
    "<font size= \"12\" >Configuring rocAL pipeline </font>"
   ]
  },
  {
   "cell_type": "markdown",
   "id": "cbf4d057",
   "metadata": {},
   "source": [
    "Configure the pipeline parameters as required by the user."
   ]
  },
  {
   "cell_type": "code",
   "execution_count": null,
   "id": "8aa1ad43",
   "metadata": {},
   "outputs": [],
   "source": []
  },
  {
   "cell_type": "code",
   "execution_count": null,
   "id": "a9093ee1",
   "metadata": {},
   "outputs": [],
   "source": []
  },
  {
   "cell_type": "markdown",
   "id": "8d21732d",
   "metadata": {},
   "source": [
    "<font size=\"12\"> Image augmentation pipeline </font>"
   ]
  },
  {
   "cell_type": "markdown",
   "id": "089b496e",
   "metadata": {},
   "source": [
    "Here the file reader is used followed by the turbo jpeg decoder. In this pipeline, cascaded augmentations are added on the decoded images.<br>Multiple augmentation outputs are returned using set_outputs"
   ]
  },
  {
   "cell_type": "code",
   "execution_count": null,
   "id": "4311b23a",
   "metadata": {},
   "outputs": [],
   "source": []
  },
  {
   "cell_type": "code",
   "execution_count": null,
   "id": "0ea1cde5",
   "metadata": {},
   "outputs": [],
   "source": []
  },
  {
   "cell_type": "markdown",
   "id": "9efb79f3",
   "metadata": {},
   "source": [
    "<font size =\"12\">Visualizing  outputs</font>"
   ]
  },
  {
   "cell_type": "markdown",
   "id": "b6ad6481",
   "metadata": {},
   "source": [
    "The output of augmented images are displayed using imshow()"
   ]
  },
  {
   "cell_type": "code",
   "execution_count": null,
   "id": "bc275a35",
   "metadata": {},
   "outputs": [],
   "source": []
  },
  {
   "cell_type": "markdown",
   "id": "e2848046-1a6b-4343-8831-ddd69ef63080",
   "metadata": {},
   "source": [
    "# "
   ]
  }
 ],
 "metadata": {
  "kernelspec": {
   "display_name": "Python 3 (ipykernel)",
   "language": "python",
   "name": "python3"
  },
  "language_info": {
   "codemirror_mode": {
    "name": "ipython",
    "version": 3
   },
   "file_extension": ".py",
   "mimetype": "text/x-python",
   "name": "python",
   "nbconvert_exporter": "python",
   "pygments_lexer": "ipython3",
   "version": "3.8.16"
  }
 },
 "nbformat": 4,
 "nbformat_minor": 5
}
