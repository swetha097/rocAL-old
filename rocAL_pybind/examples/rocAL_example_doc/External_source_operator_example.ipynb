{
 "cells": [
  {
   "cell_type": "markdown",
   "id": "c1b9bb51",
   "metadata": {},
   "source": [
    "<font size=\"18\"> External Source Operator Example </font>"
   ]
  },
  {
   "cell_type": "markdown",
   "id": "92188fec",
   "metadata": {},
   "source": [
    "This application demonstrates a simple rocAL pipeline with External Source Operator supported by rocAL."
   ]
  },
  {
   "cell_type": "markdown",
   "id": "6cf62fa8",
   "metadata": {},
   "source": [
    "<font size=\"12\"> Common Code </font>"
   ]
  },
  {
   "cell_type": "code",
   "execution_count": 1,
   "id": "0876c576-dd07-470f-970a-637ba357ec4e",
   "metadata": {},
   "outputs": [],
   "source": [
    "from amd.rocal.plugin.generic import ROCALClassificationIterator\n",
    "from amd.rocal.pipeline import Pipeline\n",
    "import amd.rocal.fn as fn\n",
    "import amd.rocal.types as types \n",
    "import cv2\n",
    "import cupy as cp\n",
    "import random\n",
    "import numpy as np\n",
    "import random"
   ]
  },
  {
   "cell_type": "code",
   "execution_count": 2,
   "id": "f10ff75b",
   "metadata": {},
   "outputs": [],
   "source": [
    "def generate_random_numbers(count):\n",
    "    # import random\n",
    "    \"\"\"Generate a list of random floating-point numbers.\"\"\"\n",
    "    random_numbers = []\n",
    "    for _ in range(count):\n",
    "        random_numbers.append(random.uniform(1.0, 100.0))  # Generates random floats between 1.0 and 100.0\n",
    "    return random_numbers\n",
    "\n",
    "def generate_random_numbers1(count):\n",
    "    \"\"\"Generate a list of random numbers.\"\"\"\n",
    "    random_numbers = []\n",
    "    for _ in range(count):\n",
    "        random_numbers.append(9)  # Generates random integers between 1 and 100 (inclusive)\n",
    "    return random_numbers\n",
    "\n",
    "\n"
   ]
  },
  {
   "cell_type": "code",
   "execution_count": 3,
   "id": "4107b53b-829b-4ff1-b607-f6c7ad4999d0",
   "metadata": {},
   "outputs": [],
   "source": [
    "batch_size = 5\n",
    "num_threads = 1\n",
    "device_id = 0\n",
    "local_rank = 0\n",
    "world_size = 1\n",
    "rocal_cpu = True\n",
    "random_seed = 0\n",
    "max_height = 720\n",
    "max_width = 640\n",
    "color_format = types.RGB\n",
    "data_path=\"/media/MIVisionX-data/rocal_data/coco/coco_10_img/train_10images_2017/\"\n",
    "decoder_device = 'cpu'\n"
   ]
  },
  {
   "cell_type": "code",
   "execution_count": null,
   "id": "50f2e4b9-f248-4c6e-86e6-1094f9be245f",
   "metadata": {},
   "outputs": [],
   "source": [
    "pipe = Pipeline(batch_size=batch_size, num_threads=num_threads, device_id=device_id, seed=random_seed, rocal_cpu=rocal_cpu, tensor_layout=types.NHWC , tensor_dtype=types.FLOAT, output_memory_type=types.HOST_MEMORY if rocal_cpu else types.DEVICE_MEMORY)"
   ]
  },
  {
   "cell_type": "code",
   "execution_count": null,
   "id": "a81bf4c5-b36b-4de8-a117-e3f9dfceb403",
   "metadata": {},
   "outputs": [],
   "source": [
    "<font size=\"12\"> External Source Operator pipeline </font>"
   ]
  },
  {
   "cell_type": "code",
   "execution_count": null,
   "id": "44f43281-ac3e-4eb7-8507-60cb88e43411",
   "metadata": {},
   "outputs": [],
   "source": [
    "with pipe:\n",
    "    jpegs, _ = fn.readers.file(file_root=data_path)\n",
    "    images = fn.decoders.image(jpegs,\n",
    "                                file_root=data_path,\n",
    "                                device=decoder_device,\n",
    "                                max_decoded_width=max_width,\n",
    "                                max_decoded_height=max_height,\n",
    "                                output_type=color_format,\n",
    "                                shard_id=local_rank,\n",
    "                                num_shards=world_size,\n",
    "                                random_shuffle=False)\n",
    "    output = fn.external_source(images, source = generate_random_numbers, size=batch_size)\n",
    "    # output1 = fn.external_source(images, source = generate_random_numbers, size=batch_size)\n",
    "    # contrast_output = fn.contrast(images, contrast_center=output , contrast = output)\n",
    "    # blur_output = fn.blur(images, window_size=3)\n",
    "\n",
    "    pipe.set_outputs(output)"
   ]
  },
  {
   "cell_type": "code",
   "execution_count": null,
   "id": "84341b6a-f978-4af2-9324-353fff99d1de",
   "metadata": {},
   "outputs": [],
   "source": [
    "pipe.build()\n",
    "\n",
    "# Dataloader\n",
    "data_loader = ROCALClassificationIterator(\n",
    "    pipe, device=\"cpu\", device_id=local_rank)"
   ]
  },
  {
   "cell_type": "markdown",
   "id": "bf98fe50-5444-4ecc-b84c-a5666e4ff67e",
   "metadata": {},
   "source": [
    "<font size =\"12\">Visualizing  outputs</font>"
   ]
  },
  {
   "cell_type": "code",
   "execution_count": 4,
   "id": "a4a0fd99-b6a1-4cbe-9097-ab93566471a5",
   "metadata": {},
   "outputs": [
    {
     "name": "stdout",
     "output_type": "stream",
     "text": [
      "OK: loaded 115 kernels from libvx_rpp.so\n",
      "Pipeline has been created succesfully\n",
      "EPOCH::::: 0\n",
      "************** 0 *******************\n",
      "**************starts*******************\n",
      "\n",
      "Images:\n",
      " [[47.759586]\n",
      " [15.9778  ]\n",
      " [23.486628]\n",
      " [20.989265]\n",
      " [30.45747 ]]\n",
      "\n",
      "LABELS:\n",
      " [0 0 0 0 0]\n",
      "**************ends*******************\n",
      "************** 0 *******************\n",
      "************** 1 *******************\n",
      "**************starts*******************\n",
      "\n",
      "Images:\n",
      " [[19.872465]\n",
      " [74.074646]\n",
      " [76.70313 ]\n",
      " [76.106575]\n",
      " [12.209558]]\n",
      "\n",
      "LABELS:\n",
      " [0 0 0 0 0]\n",
      "**************ends*******************\n",
      "************** 1 *******************\n"
     ]
    },
    {
     "name": "stderr",
     "output_type": "stream",
     "text": [
      "\n",
      " data \n",
      " \n",
      "/media/EOS_PR/rocAL/rocAL_pybind/examples/rocAL_example_doc/serialized_data.bin\n",
      " data \n",
      " \n",
      "/media/EOS_PR/rocAL/rocAL_pybind/examples/rocAL_example_doc/serialized_data.bin"
     ]
    }
   ],
   "source": [
    "cnt = 0\n",
    "aug_list = [\"resize\", \"brightness\", \"contrast\", \"fisheye\", \"fog\", \"exposure\", \"colortwist\", \"saturation\"] \n",
    "fig, axes = plt.subplots(nrows=2, ncols=4, figsize=(15,15))\n",
    "row = 0\n",
    "col = 0\n",
    "for i, it in enumerate(data_loader, 0):\n",
    "    for img in it[0]:\n",
    "        if(cnt < len(aug_list)):\n",
    "            axes[row, col].set_title(aug_list[cnt])\n",
    "        img = (img[0]).astype('uint8')\n",
    "        axes[row, col].imshow(img)\n",
    "        cnt += 1\n",
    "        row += 1\n",
    "        if(row == 2):\n",
    "            row = 0\n",
    "            col += 1\n",
    "        if(col == 4):\n",
    "            col = 0\n",
    "data_loader.reset()"
   ]
  }
 ],
 "metadata": {
  "kernelspec": {
   "display_name": "Python 3 (ipykernel)",
   "language": "python",
   "name": "python3"
  },
  "language_info": {
   "codemirror_mode": {
    "name": "ipython",
    "version": 3
   },
   "file_extension": ".py",
   "mimetype": "text/x-python",
   "name": "python",
   "nbconvert_exporter": "python",
   "pygments_lexer": "ipython3",
   "version": "3.8.16"
  }
 },
 "nbformat": 4,
 "nbformat_minor": 5
}
