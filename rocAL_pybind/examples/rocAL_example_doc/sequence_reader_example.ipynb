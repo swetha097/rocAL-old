{
 "cells": [
  {
   "cell_type": "code",
   "execution_count": 1,
   "id": "2e2c58fb",
   "metadata": {},
   "outputs": [
    {
     "name": "stderr",
     "output_type": "stream",
     "text": [
      "/opt/conda/lib/python3.8/site-packages/scipy/__init__.py:138: UserWarning: A NumPy version >=1.16.5 and <1.23.0 is required for this version of SciPy (detected version 1.24.4)\n",
      "  warnings.warn(f\"A NumPy version >={np_minversion} and <{np_maxversion} is required for this version of \"\n"
     ]
    }
   ],
   "source": [
    "import os\n",
    "import torch\n",
    "import numpy as np\n",
    "import shutil\n",
    "from amd.rocal.plugin.generic import ROCALClassificationIterator\n",
    "from amd.rocal.pipeline import Pipeline\n",
    "import amd.rocal.fn as fn\n",
    "import amd.rocal.types as types\n",
    "import matplotlib.pyplot as plt\n",
    "import matplotlib.gridspec as gridspec\n",
    "%matplotlib inline\n",
    "\n",
    "file_root = \"/media/MIVisionX-data/rocal_data/video_and_sequence_samples/sequence/\"\n",
    "data_dir = \"sequence_reader/samples\"\n",
    "batch_size = 1\n",
    "sequence_length = 10\n",
    "initial_prefetch_size = 16\n",
    "n_iter = 6\n",
    "random_seed = 1\n",
    "local_rank =  0\n",
    "world_size =  1\n",
    "display = True \n",
    "num_threads = 1\n",
    "rocal_cpu = True\n",
    "device = \"cpu\" "
   ]
  },
  {
   "cell_type": "code",
   "execution_count": 2,
   "id": "54af2cde-2db4-4cd1-8ea5-a8b470d7fdfb",
   "metadata": {},
   "outputs": [],
   "source": [
    "class ROCALVideoIterator(object):\n",
    "    \"\"\"\n",
    "    ROCALVideoIterator for pyTorch.\n",
    "\n",
    "    Parameters\n",
    "    ----------\n",
    "    pipelines : list of amd.rocal.pipeline.Pipeline\n",
    "                List of pipelines to use\n",
    "    size : int\n",
    "           Epoch size.\n",
    "    \"\"\"\n",
    "\n",
    "    def __init__(self, pipelines, tensor_layout=types.NCHW, reverse_channels=False, multiplier=None, offset=None, tensor_dtype=types.FLOAT, display=False, sequence_length=3):\n",
    "\n",
    "        try:\n",
    "            assert pipelines is not None, \"Number of provided pipelines has to be at least 1\"\n",
    "        except Exception as ex:\n",
    "            print(ex)\n",
    "\n",
    "        self.loader = pipelines\n",
    "        self.tensor_format = tensor_layout\n",
    "        self.multiplier = multiplier if multiplier else [1.0, 1.0, 1.0]\n",
    "        self.offset = offset if offset else [0.0, 0.0, 0.0]\n",
    "        self.reverse_channels = reverse_channels\n",
    "        self.tensor_dtype = tensor_dtype\n",
    "        self.batch_size = self.loader._batch_size\n",
    "        self.rim = self.loader.get_remaining_images()\n",
    "        self.display = display\n",
    "        self.iter_num = 0\n",
    "        self.sequence_length = sequence_length\n",
    "        self.output = self.dimensions = self.dtype = None\n",
    "\n",
    "    def next(self):\n",
    "        return self.__next__()\n",
    "\n",
    "    def __next__(self):\n",
    "        if self.loader.is_empty():\n",
    "            raise StopIteration\n",
    "\n",
    "        if self.loader.rocal_run() != 0:\n",
    "            raise StopIteration\n",
    "        else:\n",
    "            self.output_tensor_list = self.loader.get_output_tensors()\n",
    "        self.iter_num += 1\n",
    "        # Copy output from buffer to numpy array\n",
    "        if self.output is None:\n",
    "            self.dimensions = self.output_tensor_list[0].dimensions()\n",
    "            self.dtype = self.output_tensor_list[0].dtype()\n",
    "            self.layout = self.output_tensor_list[0].layout()\n",
    "            self.output = np.empty((self.dimensions[0] * self.dimensions[1], self.dimensions[2], self.dimensions[3], self.dimensions[4]), dtype=self.dtype)\n",
    "        self.output_tensor_list[0].copy_data(self.output)\n",
    "        img = torch.from_numpy(self.output)\n",
    "        return img\n",
    "\n",
    "    def reset(self):\n",
    "        self.loader.rocal_reset_loaders()\n",
    "\n",
    "    def __iter__(self):\n",
    "        return self\n",
    "\n",
    "    def __del__(self):\n",
    "        self.loader.rocal_release()"
   ]
  },
  {
   "cell_type": "code",
   "execution_count": 3,
   "id": "6a057cc3",
   "metadata": {},
   "outputs": [
    {
     "name": "stdout",
     "output_type": "stream",
     "text": [
      "OK: loaded 114 kernels from libvx_rpp.so\n",
      "Pipeline has been created succesfully\n"
     ]
    }
   ],
   "source": [
    "pipe = Pipeline(batch_size=batch_size, num_threads=num_threads, device_id=local_rank, seed=random_seed, rocal_cpu=rocal_cpu, tensor_layout=types.NHWC , tensor_dtype=types.FLOAT)\n"
   ]
  },
  {
   "cell_type": "code",
   "execution_count": 4,
   "id": "ae2742a0-e44c-4f3f-b2eb-0d5e9d31e437",
   "metadata": {},
   "outputs": [],
   "source": [
    "with pipe:\n",
    "        frames = fn.readers.sequence_reader(file_root, sequence_length, image_type=types.RGB, num_shards=1, random_shuffle=False, step=3, stride=1, stick_to_shard=False, pad_last_batch=False)\n",
    "        pipe.set_outputs(frames)"
   ]
  },
  {
   "cell_type": "code",
   "execution_count": 5,
   "id": "68647b1c-2256-4aca-989c-4a741abc533a",
   "metadata": {},
   "outputs": [],
   "source": [
    "pipe.build()\n",
    "# Dataloader\n",
    "data_loader = ROCALVideoIterator(pipe, multiplier=pipe._multiplier, offset=pipe._offset, display=display, sequence_length=sequence_length)"
   ]
  },
  {
   "cell_type": "code",
   "execution_count": null,
   "id": "39623f9b-d700-43c7-b4de-834a1a00635d",
   "metadata": {},
   "outputs": [],
   "source": [
    "\n",
    "columns = 3\n",
    "rows = (sequence_length + 1) // (columns)\n",
    "gs = gridspec.GridSpec(rows, columns)\n",
    "for i, it in enumerate(data_loader):\n",
    "    j = 0\n",
    "    for sequence in it:\n",
    "        if j == rows * columns:\n",
    "            break;\n",
    "        plt.subplot(gs[j])\n",
    "        plt.axis(\"off\")\n",
    "        plt.imshow(sequence)\n",
    "        j += 1\n",
    "data_loader.reset()"
   ]
  },
  {
   "cell_type": "code",
   "execution_count": null,
   "id": "ed7686de-ccee-4839-a188-c968d378afc1",
   "metadata": {},
   "outputs": [],
   "source": []
  },
  {
   "cell_type": "code",
   "execution_count": null,
   "id": "497c6dfe-4b55-46b8-948b-ab668df73a8f",
   "metadata": {},
   "outputs": [],
   "source": []
  }
 ],
 "metadata": {
  "kernelspec": {
   "display_name": "Python 3 (ipykernel)",
   "language": "python",
   "name": "python3"
  },
  "language_info": {
   "codemirror_mode": {
    "name": "ipython",
    "version": 3
   },
   "file_extension": ".py",
   "mimetype": "text/x-python",
   "name": "python",
   "nbconvert_exporter": "python",
   "pygments_lexer": "ipython3",
   "version": "3.8.16"
  }
 },
 "nbformat": 4,
 "nbformat_minor": 5
}
